{
 "cells": [
  {
   "cell_type": "code",
   "execution_count": 1,
   "metadata": {},
   "outputs": [],
   "source": [
    "from scipy import signal\n",
    "import numpy as np"
   ]
  },
  {
   "cell_type": "code",
   "execution_count": 2,
   "metadata": {},
   "outputs": [],
   "source": [
    "#kernel = np.array([[0,0,0],[0,1,0],[0,0,0]],dtype=np.float32)\n",
    "kernel = np.random.rand(3,3).astype(np.float16)"
   ]
  },
  {
   "cell_type": "code",
   "execution_count": 3,
   "metadata": {},
   "outputs": [
    {
     "data": {
      "text/plain": [
       "array([[0.1617, 0.514 , 0.9507],\n",
       "       [0.3276, 0.3484, 0.935 ],\n",
       "       [0.459 , 0.624 , 0.9927]], dtype=float16)"
      ]
     },
     "execution_count": 3,
     "metadata": {},
     "output_type": "execute_result"
    }
   ],
   "source": [
    "kernel"
   ]
  },
  {
   "cell_type": "code",
   "execution_count": 4,
   "metadata": {},
   "outputs": [],
   "source": [
    "matrix = np.random.rand(128,128) #.astype(np.float16)"
   ]
  },
  {
   "cell_type": "code",
   "execution_count": 5,
   "metadata": {},
   "outputs": [
    {
     "data": {
      "text/plain": [
       "array([[0.00238782, 0.19794222, 0.64357428, ..., 0.84427135, 0.39750855,\n",
       "        0.06797391],\n",
       "       [0.68536363, 0.43029362, 0.54841205, ..., 0.36049091, 0.74789274,\n",
       "        0.98557767],\n",
       "       [0.60284122, 0.059164  , 0.41474801, ..., 0.12566383, 0.72117021,\n",
       "        0.04916761],\n",
       "       ...,\n",
       "       [0.7832236 , 0.45266641, 0.47481187, ..., 0.91403866, 0.2048453 ,\n",
       "        0.34550349],\n",
       "       [0.9429204 , 0.39247763, 0.86524868, ..., 0.71606536, 0.80398767,\n",
       "        0.96435104],\n",
       "       [0.06823982, 0.27441334, 0.20628137, ..., 0.73447403, 0.87492204,\n",
       "        0.02894744]])"
      ]
     },
     "execution_count": 5,
     "metadata": {},
     "output_type": "execute_result"
    }
   ],
   "source": [
    "matrix"
   ]
  },
  {
   "cell_type": "code",
   "execution_count": 8,
   "metadata": {},
   "outputs": [
    {
     "name": "stdout",
     "output_type": "stream",
     "text": [
      "762 µs ± 364 ns per loop (mean ± std. dev. of 7 runs, 1000 loops each)\n"
     ]
    }
   ],
   "source": [
    "%timeit signal.convolve2d(matrix,kernel,boundary='wrap', mode='valid')"
   ]
  },
  {
   "cell_type": "code",
   "execution_count": 34,
   "metadata": {},
   "outputs": [],
   "source": []
  },
  {
   "cell_type": "code",
   "execution_count": null,
   "metadata": {},
   "outputs": [],
   "source": []
  }
 ],
 "metadata": {
  "kernelspec": {
   "display_name": "Python 3",
   "language": "python",
   "name": "python3"
  },
  "language_info": {
   "codemirror_mode": {
    "name": "ipython",
    "version": 3
   },
   "file_extension": ".py",
   "mimetype": "text/x-python",
   "name": "python",
   "nbconvert_exporter": "python",
   "pygments_lexer": "ipython3",
   "version": "3.7.6"
  }
 },
 "nbformat": 4,
 "nbformat_minor": 4
}
