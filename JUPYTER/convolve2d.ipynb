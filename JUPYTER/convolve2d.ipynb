{
 "cells": [
  {
   "cell_type": "code",
   "execution_count": 108,
   "metadata": {},
   "outputs": [],
   "source": [
    "from scipy import signal\n",
    "import numpy as np"
   ]
  },
  {
   "cell_type": "code",
   "execution_count": 109,
   "metadata": {},
   "outputs": [],
   "source": [
    "#kernel = np.array([[0,0,0],[0,1,0],[0,0,0]],dtype=np.float32)\n",
    "kernel = np.random.rand(3,3).astype(np.float16)"
   ]
  },
  {
   "cell_type": "code",
   "execution_count": 96,
   "metadata": {},
   "outputs": [
    {
     "data": {
      "text/plain": [
       "array([[0.11896, 0.8145 , 0.5425 ],\n",
       "       [0.4412 , 0.02057, 0.531  ],\n",
       "       [0.0727 , 0.7515 , 0.676  ]], dtype=float16)"
      ]
     },
     "execution_count": 96,
     "metadata": {},
     "output_type": "execute_result"
    }
   ],
   "source": [
    "kernel"
   ]
  },
  {
   "cell_type": "code",
   "execution_count": 104,
   "metadata": {},
   "outputs": [],
   "source": [
    "matrix = np.random.rand(128,128) #.astype(np.float16)"
   ]
  },
  {
   "cell_type": "code",
   "execution_count": 105,
   "metadata": {},
   "outputs": [
    {
     "data": {
      "text/plain": [
       "array([[0.48591361, 0.27752433, 0.57599314, ..., 0.83593427, 0.03800617,\n",
       "        0.23372718],\n",
       "       [0.15470032, 0.80676146, 0.05820667, ..., 0.8677902 , 0.6233346 ,\n",
       "        0.40697681],\n",
       "       [0.35926966, 0.51516942, 0.09751553, ..., 0.3752119 , 0.90364348,\n",
       "        0.25188864],\n",
       "       ...,\n",
       "       [0.31113635, 0.2124242 , 0.48463509, ..., 0.09923498, 0.98480636,\n",
       "        0.06854667],\n",
       "       [0.45173474, 0.3118311 , 0.57813568, ..., 0.03255168, 0.52269768,\n",
       "        0.48821536],\n",
       "       [0.44654672, 0.57549304, 0.2057586 , ..., 0.75993817, 0.59628993,\n",
       "        0.69220595]])"
      ]
     },
     "execution_count": 105,
     "metadata": {},
     "output_type": "execute_result"
    }
   ],
   "source": [
    "matrix"
   ]
  },
  {
   "cell_type": "code",
   "execution_count": 107,
   "metadata": {},
   "outputs": [
    {
     "name": "stdout",
     "output_type": "stream",
     "text": [
      "CPU times: user 1.02 ms, sys: 0 ns, total: 1.02 ms\n",
      "Wall time: 903 µs\n"
     ]
    },
    {
     "data": {
      "text/plain": [
       "array([[1.32925174, 1.85454951, 1.66402857, ..., 2.38247801, 2.384499  ,\n",
       "        2.23289758],\n",
       "       [2.20729572, 2.0912672 , 1.25034121, ..., 1.31090411, 1.97095578,\n",
       "        2.06406083],\n",
       "       [2.09219119, 2.06421643, 2.05762311, ..., 1.44653259, 1.97913463,\n",
       "        2.56365158],\n",
       "       ...,\n",
       "       [1.2842088 , 2.05623983, 2.26985817, ..., 2.17038859, 1.42562581,\n",
       "        1.61613516],\n",
       "       [1.85960787, 2.39793323, 2.47988589, ..., 2.2365925 , 2.05178585,\n",
       "        1.16561791],\n",
       "       [1.64177953, 1.61667476, 2.00445071, ..., 2.67541047, 2.35006146,\n",
       "        2.03574686]])"
      ]
     },
     "execution_count": 107,
     "metadata": {},
     "output_type": "execute_result"
    }
   ],
   "source": [
    "%time signal.convolve2d(matrix,kernel,boundary='wrap', mode='valid')"
   ]
  },
  {
   "cell_type": "code",
   "execution_count": 34,
   "metadata": {},
   "outputs": [],
   "source": []
  },
  {
   "cell_type": "code",
   "execution_count": null,
   "metadata": {},
   "outputs": [],
   "source": []
  }
 ],
 "metadata": {
  "kernelspec": {
   "display_name": "Python 3",
   "language": "python",
   "name": "python3"
  },
  "language_info": {
   "codemirror_mode": {
    "name": "ipython",
    "version": 3
   },
   "file_extension": ".py",
   "mimetype": "text/x-python",
   "name": "python",
   "nbconvert_exporter": "python",
   "pygments_lexer": "ipython3",
   "version": "3.7.6"
  }
 },
 "nbformat": 4,
 "nbformat_minor": 4
}
